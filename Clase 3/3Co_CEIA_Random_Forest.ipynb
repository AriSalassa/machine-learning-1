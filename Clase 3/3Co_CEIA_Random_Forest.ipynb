{
  "nbformat": 4,
  "nbformat_minor": 0,
  "metadata": {
    "kernelspec": {
      "display_name": "Python 3",
      "language": "python",
      "name": "python3"
    },
    "language_info": {
      "codemirror_mode": {
        "name": "ipython",
        "version": 3
      },
      "file_extension": ".py",
      "mimetype": "text/x-python",
      "name": "python",
      "nbconvert_exporter": "python",
      "pygments_lexer": "ipython3",
      "version": "3.8.3"
    },
    "colab": {
      "name": "3Co_CEIA_Random_Forest.ipynb",
      "provenance": []
    }
  },
  "cells": [
    {
      "cell_type": "code",
      "metadata": {
        "id": "WLGlHPKoPfNl",
        "colab": {
          "base_uri": "https://localhost:8080/"
        },
        "outputId": "f1e7616c-dafb-42b3-d916-bc4a451c77fa"
      },
      "source": [
        "import numpy as np\n",
        "from sklearn.ensemble import RandomForestClassifier \n",
        "from sklearn import metrics\n",
        "import pandas as pd\n",
        "from datetime import datetime\n",
        "start_time = datetime.now()\n",
        "\n",
        "\n",
        "# CARGAR DATASET\n",
        "#---------------------------------------------------------------------------------------------\n",
        "data = pd.read_csv('https://www.dropbox.com/s/cugxdc9mhau4nw1/titanic2.csv?dl=1')\n",
        "clase_name = 'survived' # nombre de variable a predecir\n",
        "headers    = data.columns.values.tolist()\n",
        "headers.remove(clase_name)\n",
        "\n",
        "\n",
        "# TRAIN y TEST\n",
        "#---------------------------------------------------------------------------------------------\n",
        "m_train     = np.random.rand(len(data)) < 0.7\n",
        "data_train  = data.loc[m_train,headers].values\n",
        "data_test   = data.loc[~m_train,headers].values\n",
        "clase_train = data.loc[m_train,clase_name].values\n",
        "clase_test  = data.loc[~m_train,clase_name].values\n",
        "\n",
        "\n",
        "# CONVIERTE EN NUMPY.MATRIX. Para mejor performance\n",
        "# -----------------------------------------------------------------------------------------------\n",
        "data_train = np.matrix(data_train)\n",
        "data_test  = np.matrix(data_test) \n",
        "\n",
        "\n",
        "# MODELO\n",
        "#---------------------------------------------------------------------------------------------\n",
        "modelo = RandomForestClassifier(\n",
        " random_state      = 1,   # semilla inicial de aleatoriedad del algoritmo\n",
        " n_estimators      = 666, # cantidad de árboles a crear\n",
        " min_samples_split = 2,   # cantidad minima de observaciones para dividir un nodo\n",
        " min_samples_leaf  = 1,   # observaciones minimas que puede tener una hoja del arbol\n",
        " n_jobs            = 1    # tareas en paralelo. para todos los cores disponibles usar -1\n",
        " )\n",
        "modelo.fit(X = data_train, y = clase_train)\n",
        "\n",
        "\n",
        "# PREDICCION\n",
        "#---------------------------------------------------------------------------------------------\n",
        "prediccion = modelo.predict(data_test)\n",
        "\n",
        "\n",
        "# METRICAS\n",
        "#---------------------------------------------------------------------------------------------donde:\n",
        "\n",
        "#precision = (predicciones acertadas de laclase_x) / (total casos predichos para clase_x)\n",
        "#recall     = (predicciones acertadas de la clase_x) / (total de casos existentes en clase_x)\n",
        "#f1-score   =   (2 * precision * recall) / (precision + recall)\n",
        "#support    =      total casos en cada fila\n",
        "\n",
        "print(metrics.classification_report(y_true=clase_test, y_pred=prediccion))\n",
        "print(pd.crosstab(clase_test, prediccion, rownames=['REAL'], colnames=['PREDICCION']))\n",
        "\n",
        "\n",
        "# IMPORTANCIA VARIABLES\n",
        "#---------------------------------------------------------------------------------------------\n",
        "var_imp = pd.DataFrame({\n",
        " 'feature':headers, \n",
        " 'v_importance':modelo.feature_importances_.tolist()\n",
        " })\n",
        "print (var_imp.sort_values(by = 'v_importance', ascending=False))\n",
        "\n",
        "\n",
        "# END\n",
        "#---------------------------------------------------------------------------------------------\n",
        "end_time = datetime.now()\n",
        "print('duracion: ' + format(end_time - start_time))"
      ],
      "execution_count": null,
      "outputs": [
        {
          "output_type": "stream",
          "name": "stdout",
          "text": [
            "              precision    recall  f1-score   support\n",
            "\n",
            "           0       0.81      0.83      0.82       126\n",
            "           1       0.70      0.68      0.69        75\n",
            "\n",
            "    accuracy                           0.77       201\n",
            "   macro avg       0.76      0.75      0.75       201\n",
            "weighted avg       0.77      0.77      0.77       201\n",
            "\n",
            "PREDICCION    0   1\n",
            "REAL               \n",
            "0           104  22\n",
            "1            24  51\n",
            "       feature  v_importance\n",
            "1         male      0.248629\n",
            "2          age      0.239370\n",
            "5         fare      0.223137\n",
            "0       pclass      0.085931\n",
            "6    cant_flia      0.064126\n",
            "3        sibsp      0.040905\n",
            "4        parch      0.036998\n",
            "7   frecuencia      0.020460\n",
            "8   embarked_c      0.019856\n",
            "9   embarked_s      0.015984\n",
            "10  embarked_q      0.004603\n",
            "duracion: 0:00:02.090519\n"
          ]
        }
      ]
    },
    {
      "cell_type": "code",
      "metadata": {
        "id": "MExW6VPMPfNu"
      },
      "source": [
        ""
      ],
      "execution_count": null,
      "outputs": []
    }
  ]
}