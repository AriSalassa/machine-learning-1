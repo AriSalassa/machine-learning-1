{
  "nbformat": 4,
  "nbformat_minor": 0,
  "metadata": {
    "kernelspec": {
      "display_name": "Python 3",
      "language": "python",
      "name": "python3"
    },
    "language_info": {
      "codemirror_mode": {
        "name": "ipython",
        "version": 3
      },
      "file_extension": ".py",
      "mimetype": "text/x-python",
      "name": "python",
      "nbconvert_exporter": "python",
      "pygments_lexer": "ipython3",
      "version": "3.8.3"
    },
    "colab": {
      "name": "3Co - CEIA -SVM",
      "provenance": []
    }
  },
  "cells": [
    {
      "cell_type": "code",
      "metadata": {
        "id": "qtInOs8geBbU"
      },
      "source": [
        "#Importing Libraries\n",
        "\n",
        "import numpy as np\n",
        "import matplotlib.pyplot as plt\n",
        "import pandas as pd\n",
        "from sklearn.model_selection import train_test_split\n",
        "from sklearn.svm import SVC\n",
        "from sklearn.metrics import classification_report, confusion_matrix\n",
        "import warnings\n",
        "import sklearn.exceptions\n",
        "warnings.filterwarnings(\"ignore\", category=sklearn.exceptions.UndefinedMetricWarning)\n",
        "\n",
        "#Importing the Dataset\n",
        "\n",
        "url = \"https://archive.ics.uci.edu/ml/machine-learning-databases/iris/iris.data\"\n",
        "\n",
        "# Assign colum names to the dataset\n",
        "colnames = ['sepal-length', 'sepal-width', 'petal-length', 'petal-width', 'Class']\n",
        "\n",
        "# Read dataset to pandas dataframe\n",
        "irisdata = pd.read_csv(url, names=colnames)"
      ],
      "execution_count": null,
      "outputs": []
    },
    {
      "cell_type": "code",
      "metadata": {
        "id": "pH-B2M6keBbX"
      },
      "source": [
        "#Preprocessing\n",
        "X = irisdata.drop('Class', axis=1)\n",
        "y = irisdata['Class']\n",
        "\n",
        "#Train Test Split\n",
        "\n",
        "X_train, X_test, y_train, y_test = train_test_split(X, y, test_size = 0.20)"
      ],
      "execution_count": null,
      "outputs": []
    },
    {
      "cell_type": "code",
      "metadata": {
        "colab": {
          "base_uri": "https://localhost:8080/"
        },
        "id": "SUBRhM63eBbY",
        "outputId": "a10d3aaa-0f12-4e37-a763-de85873a5e5f"
      },
      "source": [
        "#Training the Algorithm\n",
        "\n",
        "#1. Polynomial Kernel\n",
        "#In the case of polynomial kernel, \n",
        "#you also have to pass a value for the degree parameter of the SVC class. \n",
        "#This basically is the degree of the polynomial.\n",
        "\n",
        "svclassifier = SVC(kernel='poly', degree=8)\n",
        "svclassifier.fit(X_train, y_train)\n",
        "\n",
        "#Making Predictions\n",
        "\n",
        "y_pred = svclassifier.predict(X_test)\n",
        "\n",
        "#Evaluating the Algorithm\n",
        "\n",
        "print(confusion_matrix(y_test, y_pred))\n",
        "print(classification_report(y_test, y_pred))\n",
        "\n"
      ],
      "execution_count": null,
      "outputs": [
        {
          "output_type": "stream",
          "name": "stdout",
          "text": [
            "[[13  0  0]\n",
            " [ 0 11  2]\n",
            " [ 0  0  4]]\n",
            "                 precision    recall  f1-score   support\n",
            "\n",
            "    Iris-setosa       1.00      1.00      1.00        13\n",
            "Iris-versicolor       1.00      0.85      0.92        13\n",
            " Iris-virginica       0.67      1.00      0.80         4\n",
            "\n",
            "       accuracy                           0.93        30\n",
            "      macro avg       0.89      0.95      0.91        30\n",
            "   weighted avg       0.96      0.93      0.94        30\n",
            "\n"
          ]
        }
      ]
    },
    {
      "cell_type": "code",
      "metadata": {
        "colab": {
          "base_uri": "https://localhost:8080/"
        },
        "id": "84ECqZ7XeBbZ",
        "outputId": "a514d706-ddba-47bd-e3f3-d3ac7fab9617"
      },
      "source": [
        "#2. Gaussian Kernel\n",
        "\n",
        "#To use Gaussian kernel, \n",
        "#you have to specify 'rbf' as value for the Kernel parameter of the SVC class.\n",
        "\n",
        "svclassifier = SVC(kernel='rbf')\n",
        "svclassifier.fit(X_train, y_train)\n",
        "\n",
        "#Making Predictions\n",
        "\n",
        "y_pred = svclassifier.predict(X_test)\n",
        "\n",
        "#Evaluating the Algorithm\n",
        "\n",
        "print(confusion_matrix(y_test, y_pred))\n",
        "print(classification_report(y_test, y_pred))"
      ],
      "execution_count": null,
      "outputs": [
        {
          "output_type": "stream",
          "name": "stdout",
          "text": [
            "[[13  0  0]\n",
            " [ 0 11  2]\n",
            " [ 0  0  4]]\n",
            "                 precision    recall  f1-score   support\n",
            "\n",
            "    Iris-setosa       1.00      1.00      1.00        13\n",
            "Iris-versicolor       1.00      0.85      0.92        13\n",
            " Iris-virginica       0.67      1.00      0.80         4\n",
            "\n",
            "       accuracy                           0.93        30\n",
            "      macro avg       0.89      0.95      0.91        30\n",
            "   weighted avg       0.96      0.93      0.94        30\n",
            "\n"
          ]
        }
      ]
    },
    {
      "cell_type": "code",
      "metadata": {
        "colab": {
          "base_uri": "https://localhost:8080/"
        },
        "id": "NbeSohSVeBba",
        "outputId": "4fd5c279-8837-4091-ee89-0c20df21e7ae"
      },
      "source": [
        "#3. Sigmoid Kernel\n",
        "\n",
        "svclassifier = SVC(kernel='sigmoid')\n",
        "svclassifier.fit(X_train, y_train)\n",
        "\n",
        "#Making Predictions\n",
        "\n",
        "y_pred = svclassifier.predict(X_test)\n",
        "\n",
        "#Evaluating the Algorithm\n",
        "\n",
        "print(confusion_matrix(y_test, y_pred))\n",
        "print(classification_report(y_test, y_pred))"
      ],
      "execution_count": null,
      "outputs": [
        {
          "output_type": "stream",
          "name": "stdout",
          "text": [
            "[[ 0  0 13]\n",
            " [ 0  0 13]\n",
            " [ 0  0  4]]\n",
            "                 precision    recall  f1-score   support\n",
            "\n",
            "    Iris-setosa       0.00      0.00      0.00        13\n",
            "Iris-versicolor       0.00      0.00      0.00        13\n",
            " Iris-virginica       0.13      1.00      0.24         4\n",
            "\n",
            "       accuracy                           0.13        30\n",
            "      macro avg       0.04      0.33      0.08        30\n",
            "   weighted avg       0.02      0.13      0.03        30\n",
            "\n"
          ]
        }
      ]
    }
  ]
}